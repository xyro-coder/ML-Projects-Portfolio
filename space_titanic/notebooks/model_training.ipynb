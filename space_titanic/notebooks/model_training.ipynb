{
 "cells": [
  {
   "cell_type": "code",
   "execution_count": 1,
   "metadata": {},
   "outputs": [],
   "source": [
    "import pandas as pd\n",
    "import numpy as np\n",
    "from xgboost import XGBClassifier\n",
    "from sklearn.model_selection import train_test_split\n",
    "from sklearn.pipeline import Pipeline\n",
    "\n",
    "train_data = pd.read_csv('train.csv')\n",
    "test_data = pd.read_csv('test.csv')\n",
    "\n",
    "X = train_data.drop(['Transported', 'PassengerId', 'Name', 'Cabin'], axis=1)\n",
    "y = train_data['Transported']\n",
    "\n",
    "X_train, X_test, y_train, y_test = train_test_split(X, y, test_size=0.2, random_state=42)\n"
   ]
  },
  {
   "cell_type": "markdown",
   "metadata": {},
   "source": [
    "##### So what do we need to do?\n",
    "##### We need an imputer for missing values in numerical collumns\n",
    "##### We need to remove the collums that do dont matter i.e name ,transported\n",
    "##### one hot encode \n",
    "##### put this all into a data pipeline"
   ]
  },
  {
   "cell_type": "code",
   "execution_count": 6,
   "metadata": {},
   "outputs": [
    {
     "name": "stderr",
     "output_type": "stream",
     "text": [
      "/var/folders/n_/wdklgr6s14x0n696xzlx745h0000gn/T/ipykernel_15975/12074453.py:28: FutureWarning: DataFrame.applymap has been deprecated. Use DataFrame.map instead.\n",
      "  X[binary_collums] = X[binary_collums].applymap(lambda x: 1 if x == True else 0)\n",
      "/var/folders/n_/wdklgr6s14x0n696xzlx745h0000gn/T/ipykernel_15975/12074453.py:28: FutureWarning: DataFrame.applymap has been deprecated. Use DataFrame.map instead.\n",
      "  X[binary_collums] = X[binary_collums].applymap(lambda x: 1 if x == True else 0)\n"
     ]
    },
    {
     "name": "stdout",
     "output_type": "stream",
     "text": [
      "ROC AUC Score: 0.8714\n"
     ]
    },
    {
     "name": "stderr",
     "output_type": "stream",
     "text": [
      "/var/folders/n_/wdklgr6s14x0n696xzlx745h0000gn/T/ipykernel_15975/12074453.py:28: FutureWarning: DataFrame.applymap has been deprecated. Use DataFrame.map instead.\n",
      "  X[binary_collums] = X[binary_collums].applymap(lambda x: 1 if x == True else 0)\n",
      "/Users/icarelius/Library/Python/3.12/lib/python/site-packages/sklearn/pipeline.py:62: FutureWarning: This Pipeline instance is not fitted yet. Call 'fit' with appropriate arguments before using other methods such as transform, predict, etc. This will raise an error in 1.8 instead of the current warning.\n",
      "  warnings.warn(\n",
      "/var/folders/n_/wdklgr6s14x0n696xzlx745h0000gn/T/ipykernel_15975/12074453.py:28: FutureWarning: DataFrame.applymap has been deprecated. Use DataFrame.map instead.\n",
      "  X[binary_collums] = X[binary_collums].applymap(lambda x: 1 if x == True else 0)\n",
      "/Users/icarelius/Library/Python/3.12/lib/python/site-packages/sklearn/pipeline.py:62: FutureWarning: This Pipeline instance is not fitted yet. Call 'fit' with appropriate arguments before using other methods such as transform, predict, etc. This will raise an error in 1.8 instead of the current warning.\n",
      "  warnings.warn(\n"
     ]
    }
   ],
   "source": [
    "from sklearn.base import BaseEstimator, TransformerMixin\n",
    "from sklearn.impute import SimpleImputer\n",
    "from sklearn.preprocessing import OneHotEncoder\n",
    "from sklearn.metrics import roc_auc_score\n",
    "from sklearn.pipeline import Pipeline\n",
    "import pandas as pd\n",
    "\n",
    "class Custom_Transformer(BaseEstimator, TransformerMixin):\n",
    "    def __init__(self):\n",
    "        super().__init__()\n",
    "\n",
    "    def fit(self, X, y=None):\n",
    "        return self\n",
    "\n",
    "    def get_feature_names_out(self, feature_names=None):\n",
    "        return feature_names\n",
    "\n",
    "class Numerical_Imputer(Custom_Transformer):\n",
    "    def transform(self,X,y=None):\n",
    "        Imputer = SimpleImputer(strategy='median')\n",
    "        Numerical = ['Age','RoomService','FoodCourt','ShoppingMall','Spa','VRDeck']\n",
    "        X[Numerical] = Imputer.fit_transform(X[Numerical])\n",
    "        return X\n",
    "\n",
    "class Binary_converter(Custom_Transformer):\n",
    "    def transform(self,X,y=None):\n",
    "        binary_collums = ['CryoSleep']\n",
    "        X[binary_collums] = X[binary_collums].applymap(lambda x: 1 if x == True else 0)\n",
    "        return X\n",
    "\n",
    "class OneHotEncode(Custom_Transformer):\n",
    "    def transform(self,X,y=None):\n",
    "        Ohe = OneHotEncoder(sparse_output=False)\n",
    "        Categorical_columns = ['HomePlanet','Destination','VIP']\n",
    "        X_encoded = Ohe.fit_transform(X[Categorical_columns])\n",
    "        X_encoded_df = pd.DataFrame(X_encoded, columns=Ohe.get_feature_names_out(Categorical_columns),index=X.index)\n",
    "        X = X.drop(columns=Categorical_columns)\n",
    "        X = pd.concat([X,X_encoded_df],axis=1)\n",
    "        return X\n",
    "\n",
    "pipeline = Pipeline(steps=[\n",
    "    ('numerical_imputer', Numerical_Imputer()),\n",
    "    ('binary_converter', Binary_converter()),\n",
    "    ('one_hot_encoder', OneHotEncode())\n",
    "])\n",
    "\n",
    "pipeline.fit(X_train, y_train)\n",
    "\n",
    "xgb = XGBClassifier(\n",
    "    n_estimators=100,\n",
    "    learning_rate=0.1,\n",
    "    max_depth=6,\n",
    "    random_state=42\n",
    ")\n",
    "\n",
    "X_transformed = pipeline.fit_transform(X_train)\n",
    "xgb.fit(X_transformed, y_train)\n",
    "y_pred = xgb.predict(pipeline.transform(X_test))\n",
    "y_pred_proba = xgb.predict_proba(pipeline.transform(X_test))[:, 1]\n",
    "roc_auc = roc_auc_score(y_test, y_pred_proba)"
   ]
  },
  {
   "cell_type": "code",
   "execution_count": 7,
   "metadata": {},
   "outputs": [
    {
     "name": "stdout",
     "output_type": "stream",
     "text": [
      "ROC AUC Score: 0.8714\n"
     ]
    }
   ],
   "source": [
    "print(f\"ROC AUC Score: {roc_auc:.4f}\")"
   ]
  },
  {
   "cell_type": "code",
   "execution_count": null,
   "metadata": {},
   "outputs": [],
   "source": []
  }
 ],
 "metadata": {
  "kernelspec": {
   "display_name": "Python 3",
   "language": "python",
   "name": "python3"
  },
  "language_info": {
   "codemirror_mode": {
    "name": "ipython",
    "version": 3
   },
   "file_extension": ".py",
   "mimetype": "text/x-python",
   "name": "python",
   "nbconvert_exporter": "python",
   "pygments_lexer": "ipython3",
   "version": "3.12.6"
  }
 },
 "nbformat": 4,
 "nbformat_minor": 2
}
